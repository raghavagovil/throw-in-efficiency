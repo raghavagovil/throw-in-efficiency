{
 "cells": [
  {
   "cell_type": "code",
   "execution_count": 1,
   "metadata": {},
   "outputs": [],
   "source": [
    "import json\n",
    "import matplotlib.pyplot as plt\n",
    "from Football_Pitch import draw_football_pitch\n",
    "from textwrap import wrap\n",
    "%matplotlib inline\n",
    "%config InlineBackend.print_figure_kwargs = {'bbox_inches':None}"
   ]
  },
  {
   "cell_type": "code",
   "execution_count": 69,
   "metadata": {},
   "outputs": [
    {
     "name": "stdout",
     "output_type": "stream",
     "text": [
      "Example event: \n"
     ]
    },
    {
     "data": {
      "text/plain": [
       "{'id': 'e3b4ec29-6aa2-4391-a1a4-1ba4bf30fe74',\n",
       " 'index': 5,\n",
       " 'period': 1,\n",
       " 'timestamp': '00:00:01.307',\n",
       " 'minute': 0,\n",
       " 'second': 1,\n",
       " 'type': {'id': 30, 'name': 'Pass'},\n",
       " 'possession': 2,\n",
       " 'possession_team': {'id': 784, 'name': 'Peru'},\n",
       " 'play_pattern': {'id': 9, 'name': 'From Kick Off'},\n",
       " 'team': {'id': 784, 'name': 'Peru'},\n",
       " 'player': {'id': 5535, 'name': 'José Paolo Guerrero González'},\n",
       " 'position': {'id': 23, 'name': 'Center Forward'},\n",
       " 'location': [60.0, 41.0],\n",
       " 'duration': 1.013,\n",
       " 'related_events': ['faaa2ae8-eba1-4f29-b2bf-70bfcec171f0'],\n",
       " 'pass': {'recipient': {'id': 5523, 'name': 'Renato Fabrizio Tapia Cortijo'},\n",
       "  'length': 16.03122,\n",
       "  'angle': -3.0791738,\n",
       "  'height': {'id': 1, 'name': 'Ground Pass'},\n",
       "  'end_location': [44.0, 40.0],\n",
       "  'body_part': {'id': 40, 'name': 'Right Foot'},\n",
       "  'type': {'id': 65, 'name': 'Kick Off'}}}"
      ]
     },
     "execution_count": 69,
     "metadata": {},
     "output_type": "execute_result"
    }
   ],
   "source": [
    "match_id = 7562\n",
    "\n",
    "fin = open(\"./Statsbomb_Data/events/\" + str(match_id) + \".json\", 'r')\n",
    "data = json.load(fin)\n",
    "fin.close()\n",
    "\n",
    "print(\"Example event: \")\n",
    "data[4]"
   ]
  },
  {
   "cell_type": "code",
   "execution_count": 70,
   "metadata": {},
   "outputs": [
    {
     "name": "stdout",
     "output_type": "stream",
     "text": [
      "There are 4 shots that came from throw ins.\n"
     ]
    }
   ],
   "source": [
    "teams = [data[1][\"possession_team\"][\"name\"], data[1][\"team\"][\"name\"]]\n",
    "shots_that_came_from_throw_ins_indices = []\n",
    "indices = []\n",
    "\n",
    "for i in range(len(data)):\n",
    "    event = data[i]\n",
    "    if('shot' in event and event[\"play_pattern\"][\"id\"] == 4):\n",
    "        shots_that_came_from_throw_ins_indices.append(i)\n",
    "        \n",
    "print(\"There are\", len(shots_that_came_from_throw_ins_indices), \"shots that came from throw ins.\")\n"
   ]
  },
  {
   "cell_type": "code",
   "execution_count": 73,
   "metadata": {},
   "outputs": [
    {
     "name": "stdout",
     "output_type": "stream",
     "text": [
      "553 574\n",
      "861 919\n",
      "2320 2323\n",
      "Example:\n"
     ]
    },
    {
     "data": {
      "text/plain": [
       "[[['pass', [88.0, 80.0], [81.0, 73.0]],\n",
       "  ['carry', [81.0, 73.0], [89.0, 76.0]],\n",
       "  ['pass', [89.0, 76.0], [94.0, 74.0]],\n",
       "  ['carry', [27.0, 7.0], [29.0, 6.0]],\n",
       "  ['pass', [29.0, 6.0], [32.0, 9.0]],\n",
       "  ['carry', [97.0, 69.0], [100.0, 58.0]],\n",
       "  ['pass', [100.0, 58.0], [103.0, 53.0]],\n",
       "  ['pass', [103.0, 53.0], [97.0, 46.0]],\n",
       "  ['carry', [97.0, 46.0], [95.0, 46.0]],\n",
       "  {'team': 'Australia',\n",
       "   'shot_position': [95.0, 46.0],\n",
       "   'xG': 0.04956314,\n",
       "   'is_goal': False}],\n",
       " [['pass', [83.0, 80.0], [105.0, 73.0]],\n",
       "  ['carry', [105.0, 73.0], [103.0, 73.0]],\n",
       "  ['carry', [18.0, 8.0], [20.0, 5.0]],\n",
       "  ['pass', [20.0, 5.0], [39.0, 10.0]],\n",
       "  ['pass', [82.0, 71.0], [71.0, 65.0]],\n",
       "  ['pass', [71.0, 65.0], [88.0, 59.0]],\n",
       "  ['carry', [88.0, 59.0], [82.0, 61.0]],\n",
       "  ['pass', [82.0, 61.0], [94.0, 17.0]],\n",
       "  ['carry', [24.0, 66.0], [20.0, 74.0]],\n",
       "  ['pass', [20.0, 74.0], [7.0, 68.0]],\n",
       "  ['carry', [7.0, 68.0], [6.0, 69.0]],\n",
       "  ['pass', [6.0, 69.0], [31.0, 73.0]],\n",
       "  ['pass', [90.0, 8.0], [88.0, 22.0]],\n",
       "  ['carry', [88.0, 22.0], [81.0, 23.0]],\n",
       "  ['pass', [81.0, 23.0], [69.0, 28.0]],\n",
       "  ['carry', [69.0, 28.0], [67.0, 37.0]],\n",
       "  ['pass', [67.0, 37.0], [73.0, 64.0]],\n",
       "  ['carry', [73.0, 64.0], [79.0, 75.0]],\n",
       "  ['pass', [79.0, 75.0], [71.0, 58.0]],\n",
       "  ['carry', [71.0, 58.0], [72.0, 54.0]],\n",
       "  ['pass', [72.0, 54.0], [60.0, 43.0]],\n",
       "  ['carry', [60.0, 43.0], [56.0, 46.0]],\n",
       "  ['pass', [56.0, 46.0], [67.0, 16.0]],\n",
       "  ['carry', [67.0, 16.0], [69.0, 21.0]],\n",
       "  ['pass', [69.0, 21.0], [77.0, 30.0]],\n",
       "  ['carry', [77.0, 30.0], [79.0, 33.0]],\n",
       "  ['pass', [79.0, 33.0], [86.0, 27.0]],\n",
       "  ['carry', [86.0, 27.0], [95.0, 24.0]],\n",
       "  ['pass', [95.0, 24.0], [106.0, 14.0]],\n",
       "  ['pass', [106.0, 14.0], [108.0, 48.0]],\n",
       "  {'team': 'Australia',\n",
       "   'shot_position': [112.0, 42.0],\n",
       "   'xG': 0.12968844,\n",
       "   'is_goal': False}],\n",
       " [['pass', [108.0, 2.0], [114.0, 36.0]],\n",
       "  {'team': 'Australia',\n",
       "   'shot_position': [116.0, 39.0],\n",
       "   'xG': 0.24491735,\n",
       "   'is_goal': False}]]"
      ]
     },
     "execution_count": 73,
     "metadata": {},
     "output_type": "execute_result"
    }
   ],
   "source": [
    "pass_chains = []\n",
    "for i in shots_that_came_from_throw_ins_indices:\n",
    "    j = i - 1\n",
    "    while(j >= 0):\n",
    "        if(\"pass\" in data[j] and \"type\" in data[j][\"pass\"] and data[j][\"pass\"][\"type\"][\"name\"] == \"Throw-in\"):\n",
    "            if((data[i][\"location\"][0] <= 40 and data[j][\"pass\"][\"end_location\"][0] <= 40) or \\\n",
    "                (data[j][\"pass\"][\"end_location\"][0] >= 80 and data[i][\"location\"][0] >= 80)):\n",
    "                pass_chain = []\n",
    "                \n",
    "                k = j \n",
    "                print(j, i)\n",
    "                while(k < i):\n",
    "                    if(\"pass\" in data[k] and data[k][\"location\"] != data[k][\"pass\"][\"end_location\"]):\n",
    "                        pass_chain.append([\"pass\", data[k][\"location\"], data[k][\"pass\"][\"end_location\"]])\n",
    "                    elif(\"carry\" in data[k] and data[k][\"location\"] != data[k][\"carry\"][\"end_location\"]):\n",
    "                        pass_chain.append([\"carry\", data[k][\"location\"], data[k][\"carry\"][\"end_location\"]])\n",
    "                    k += 1\n",
    "                    \n",
    "                pass_chain.append({\"team\": data[j][\"possession_team\"][\"name\"], \n",
    "                                   \"shot_position\": data[i][\"location\"], \n",
    "                                   \"xG\": data[i][\"shot\"][\"statsbomb_xg\"], \n",
    "                                   \"is_goal\": (data[i]['shot']['outcome']['name'] == 'Goal')})\n",
    "                \n",
    "                pass_chains.append(pass_chain)\n",
    "            break\n",
    "        j -= 1\n",
    "    \n",
    "\n",
    "print(\"Example:\")\n",
    "pass_chains"
   ]
  },
  {
   "cell_type": "code",
   "execution_count": 72,
   "metadata": {},
   "outputs": [
    {
     "data": {
      "image/png": "[encoded data removed]",
      "text/plain": [
       "<Figure size 432x288 with 1 Axes>"
      ]
     },
     "metadata": {
      "needs_background": "light"
     },
     "output_type": "display_data"
    }
   ],
   "source": [
    "l, w = 120, 80\n",
    "\n",
    "team_0_xG = 0\n",
    "team_1_xG = 0\n",
    "\n",
    "draw_football_pitch(l, w)\n",
    "\n",
    "for pass_chain in pass_chains:\n",
    "    t = pass_chain[-1]\n",
    "    reflect = False\n",
    "    if(teams[0] == t[\"team\"]):\n",
    "        reflect = True #reflect about the center spot to adjust for perspective\n",
    "        team_0_xG += t[\"xG\"]\n",
    "        shot_marker = 'bs'\n",
    "        pass_color = 'blue' \n",
    "    else:\n",
    "        team_1_xG += t[\"xG\"]\n",
    "        shot_marker = 'rs'\n",
    "        pass_color = 'red' \n",
    "    if(t[\"is_goal\"]):\n",
    "        shot_marker = 'ws'\n",
    "        \n",
    "    for i in range(len(pass_chain) - 1):\n",
    "        if(reflect):\n",
    "            start = [l - pass_chain[i][1][0], w - pass_chain[i][1][1]]\n",
    "            end = [l - pass_chain[i][2][0], w - pass_chain[i][2][1]]\n",
    "        else:\n",
    "            start = pass_chain[i][1]\n",
    "            end = pass_chain[i][2]\n",
    "        if(pass_chain[i][0] == \"pass\"):\n",
    "            plt.arrow(start[0], start[1], end[0] - start[0], end[1] - start[1], \\\n",
    "              color = pass_color, length_includes_head = True, head_width = 2)\n",
    "        else:\n",
    "            plt.plot([start[0], end[0]], [start[1], end[1]], linestyle='dashed', color = pass_color)\n",
    "            \n",
    "    if(reflect):\n",
    "        shot_position = [l - t[\"shot_position\"][0], w - t[\"shot_position\"][1]]\n",
    "    else:\n",
    "        shot_position = t[\"shot_position\"]\n",
    "    plt.plot(*shot_position, shot_marker, ms=max(5, t[\"xG\"] * 50), markeredgecolor = \"black\")\n",
    "    \n",
    "\n",
    "team_0_xG, team_1_xG = round(team_0_xG, 3), round(team_1_xG, 3)\n",
    "plt.axis('scaled')\n",
    "title = \"xG Shot map from Throw Ins into the Final Third for \" + teams[0] + \" (Blue; \" + str(team_0_xG) + \") vs \" + teams[1] + \" (Red; \" + str(team_1_xG) + \")\"\n",
    "plt.title(\"\\n\".join(wrap(title, 60)))\n",
    "plt.show()"
   ]
  },
  {
   "cell_type": "code",
   "execution_count": null,
   "metadata": {},
   "outputs": [],
   "source": []
  }
 ],
 "metadata": {
  "kernelspec": {
   "display_name": "Python 3",
   "language": "python",
   "name": "python3"
  },
  "language_info": {
   "codemirror_mode": {
    "name": "ipython",
    "version": 3
   },
   "file_extension": ".py",
   "mimetype": "text/x-python",
   "name": "python",
   "nbconvert_exporter": "python",
   "pygments_lexer": "ipython3",
   "version": "3.6.8"
  }
 },
 "nbformat": 4,
 "nbformat_minor": 4
}
